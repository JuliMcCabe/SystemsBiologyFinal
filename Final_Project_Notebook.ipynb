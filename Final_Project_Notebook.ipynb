{
 "cells": [
  {
   "cell_type": "markdown",
   "id": "04c1ede7-f678-4edf-8dc4-367a3c8f3b4a",
   "metadata": {},
   "source": [
    "# BME296 Final Project: *M. tuberculosis* pcaA Gene\n",
    "This Notebook will contain an analysis of mycolic acid synthase, an enzyme represented by the pcaA gene in *Mycobacterium tuberculosis*."
   ]
  },
  {
   "cell_type": "code",
   "execution_count": 39,
   "id": "4196a7dd-8900-4668-9488-0d1df9ab157f",
   "metadata": {},
   "outputs": [
    {
     "name": "stdin",
     "output_type": "stream",
     "text": [
      "Once deleted, variables cannot be recovered. Proceed (y/[n])?  y\n"
     ]
    }
   ],
   "source": [
    "%reset"
   ]
  },
  {
   "cell_type": "code",
   "execution_count": 40,
   "id": "5ad56f7d-e140-455c-812b-bb7ed705076d",
   "metadata": {},
   "outputs": [],
   "source": [
    "# import statements\n",
    "import numpy as np\n",
    "import matplotlib.pyplot as plt\n",
    "import scipy as sp\n",
    "import cobra as cb\n",
    "\n",
    "from Bio.PDB import *\n",
    "import nglview as nv\n",
    "import ipywidgets\n",
    "\n",
    "from tabulate import tabulate"
   ]
  },
  {
   "cell_type": "markdown",
   "id": "e4b442e1-3739-41c9-8124-25c72c7dc1db",
   "metadata": {
    "tags": []
   },
   "source": [
    "## 1. Molecular Scale\n",
    "In this section of the Notebook, the protein's structure will be evaluated using information provided in the AlphaFold database."
   ]
  },
  {
   "cell_type": "code",
   "execution_count": 41,
   "id": "2a8ca247-2f65-4837-b732-eda2e49e7288",
   "metadata": {},
   "outputs": [
    {
     "data": {
      "application/vnd.jupyter.widget-view+json": {
       "model_id": "cc34ee1b57a344e8b3a7f9f148f994de",
       "version_major": 2,
       "version_minor": 0
      },
      "text/plain": [
       "NGLWidget()"
      ]
     },
     "metadata": {},
     "output_type": "display_data"
    }
   ],
   "source": [
    "pdb_parser = PDBParser()\n",
    "structure = pdb_parser.get_structure(\"P\", \"Protein_Structure.pdb\")\n",
    "view = nv.show_biopython(structure)\n",
    "view"
   ]
  },
  {
   "cell_type": "markdown",
   "id": "bfd9d01d-a7ea-4626-96b2-eecf44929006",
   "metadata": {},
   "source": [
    "## 2. Cellular Scale\n",
    "This section of the Notebook will explore the protein on the cellular level, primarily through flux balance analysis."
   ]
  },
  {
   "cell_type": "markdown",
   "id": "0515bf06-537a-4a64-8083-71cd0636f150",
   "metadata": {},
   "source": [
    "### *M. tuberculosis* Metabolic Model"
   ]
  },
  {
   "cell_type": "code",
   "execution_count": 42,
   "id": "d323d430-ac0c-4111-8dbc-97c646e18521",
   "metadata": {},
   "outputs": [],
   "source": [
    "# load model\n",
    "model = cb.io.read_sbml_model('iEK1008.xml')"
   ]
  },
  {
   "cell_type": "code",
   "execution_count": 43,
   "id": "2e40afba-ae74-428b-8ddd-a96c8b5ddaf0",
   "metadata": {},
   "outputs": [
    {
     "data": {
      "text/html": [
       "\n",
       "        <table>\n",
       "            <tr>\n",
       "                <td><strong>Name</strong></td>\n",
       "                <td>iEK1008</td>\n",
       "            </tr><tr>\n",
       "                <td><strong>Memory address</strong></td>\n",
       "                <td>7fcc013857b0</td>\n",
       "            </tr><tr>\n",
       "                <td><strong>Number of metabolites</strong></td>\n",
       "                <td>998</td>\n",
       "            </tr><tr>\n",
       "                <td><strong>Number of reactions</strong></td>\n",
       "                <td>1226</td>\n",
       "            </tr><tr>\n",
       "                <td><strong>Number of genes</strong></td>\n",
       "                <td>1008</td>\n",
       "            </tr><tr>\n",
       "                <td><strong>Number of groups</strong></td>\n",
       "                <td>0</td>\n",
       "            </tr><tr>\n",
       "                <td><strong>Objective expression</strong></td>\n",
       "                <td>1.0*BIOMASS__2 - 1.0*BIOMASS__2_reverse_ecbec</td>\n",
       "            </tr><tr>\n",
       "                <td><strong>Compartments</strong></td>\n",
       "                <td>cytosol, extracellular space</td>\n",
       "            </tr>\n",
       "          </table>"
      ],
      "text/plain": [
       "<Model iEK1008 at 0x7fcc013857b0>"
      ]
     },
     "execution_count": 43,
     "metadata": {},
     "output_type": "execute_result"
    }
   ],
   "source": [
    "# display model information\n",
    "model"
   ]
  },
  {
   "cell_type": "code",
   "execution_count": 61,
   "id": "564e8731-4d8b-47bc-8361-0e8c8fec10a9",
   "metadata": {},
   "outputs": [],
   "source": [
    "# define the environment\n",
    "\n",
    "# export all metabolites, import no metabolites\n",
    "for ex in model.exchanges:\n",
    "    ex.lower_bound = 0\n",
    "    ex.upper_bound = 1000"
   ]
  },
  {
   "cell_type": "code",
   "execution_count": 62,
   "id": "dc45482d-96ea-49b8-a8f7-dc422d61ed05",
   "metadata": {
    "tags": []
   },
   "outputs": [
    {
     "name": "stdout",
     "output_type": "stream",
     "text": [
      "EX_ala_B_e Beta-Alanine exchange\n",
      "EX_ala__D_e D-Alanine exchange\n",
      "EX_ala__L_e L-Alanine exchange\n",
      "EX_asn__L_e L-Asparagine exchange\n",
      "EX_asp__L_e L-Aspartate exchange\n",
      "EX_ca2_e Calcium exchange\n",
      "EX_cl_e Chloride exchange\n",
      "EX_fe2_e Fe2+ exchange\n",
      "EX_fe3_e Fe3+ exchange\n",
      "EX_gal_e D-Galactose exchange\n",
      "EX_gln__L_e L-Glutamine exchange\n",
      "EX_glu__L_e L-Glutamate exchange\n",
      "EX_gly_e Glycine exchange\n",
      "EX_h_e H+ exchange\n",
      "EX_h2o_e H2O exchange\n",
      "EX_his__L_e L-Histidine exchange\n",
      "EX_ile__L_e L-Isoleucine exchange\n",
      "EX_k_e K+ exchange\n",
      "EX_leu__L_e L-Leucine exchange\n",
      "EX_lys__L_e L-Lysine exchange\n",
      "EX_met__L_e L-Methionine exchange\n",
      "EX_mg2_e Mg exchange\n",
      "EX_na1_e Sodium exchange\n",
      "EX_nh4_e Ammonia exchange\n",
      "EX_o2_e O2 exchange\n",
      "EX_phe__L_e L-Phenylalanine exchange\n",
      "EX_pi_e Phosphate exchange\n",
      "EX_ser__D_e D-Serine exchange\n",
      "EX_ser__L_e L-Serine exchange\n",
      "EX_so4_e Sulfate exchange\n",
      "EX_thr__L_e L-Threonine exchange\n",
      "EX_tyr__L_e L-Tyrosine exchange\n",
      "EX_val__L_e L-Valine exchange\n"
     ]
    }
   ],
   "source": [
    "# metabolite exchanges\n",
    "met_ex = ['EX_ala_B_e','EX_ala__D_e','EX_ala__L_e', 'EX_asn__L_e','EX_asp__L_e','EX_ca2_e','EX_cl_e','EX_fe2_e','EX_fe3_e',\n",
    "          'EX_gal_e','EX_gln__L_e','EX_glu__L_e','EX_gly_e','EX_h_e','EX_h2o_e','EX_his__L_e','EX_ile__L_e','EX_k_e',\n",
    "          'EX_leu__L_e','EX_lys__L_e','EX_met__L_e','EX_mg2_e','EX_na1_e','EX_nh4_e','EX_o2_e','EX_phe__L_e','EX_pi_e',\n",
    "          'EX_ser__D_e','EX_ser__L_e','EX_so4_e','EX_thr__L_e','EX_tyr__L_e','EX_val__L_e']\n",
    "\n",
    "# unlimited import of each metabolite\n",
    "for ex_id in met_ex:\n",
    "    model.exchanges.get_by_id(ex_id).lower_bound = -1000\n",
    "    print(model.exchanges.get_by_id(ex_id).id, model.exchanges.get_by_id(ex_id).name)\n",
    "    \n"
   ]
  },
  {
   "cell_type": "code",
   "execution_count": 72,
   "id": "6861d78b-e255-42a5-9c70-cebc779406bd",
   "metadata": {},
   "outputs": [
    {
     "name": "stdout",
     "output_type": "stream",
     "text": [
      "Base Optimal Solution:  29.299628571552145\n",
      "Metabolite Exchange            Removed\n",
      "------------------------  ------------\n",
      "Beta-Alanine exchange     29.2996\n",
      "D-Alanine exchange        29.2996\n",
      "L-Alanine exchange        29.2996\n",
      "L-Asparagine exchange     29.2505\n",
      "L-Aspartate exchange      29.2996\n",
      "Calcium exchange          29.2996\n",
      "Chloride exchange         29.2996\n",
      "Fe2+ exchange             29.2996\n",
      "Fe3+ exchange             -9.29634e-15\n",
      "D-Galactose exchange      20.0027\n",
      "L-Glutamine exchange      29.2996\n",
      "L-Glutamate exchange      28.0195\n",
      "Glycine exchange          29.2996\n",
      "H+ exchange               29.2996\n",
      "H2O exchange              29.2996\n",
      "L-Histidine exchange      29.0992\n",
      "L-Isoleucine exchange     29.2996\n",
      "K+ exchange               29.2996\n",
      "L-Leucine exchange        29.2996\n",
      "L-Lysine exchange         29.2455\n",
      "L-Methionine exchange     29.2128\n",
      "Mg exchange               29.2996\n",
      "Sodium exchange           29.2996\n",
      "Ammonia exchange          29.2996\n",
      "O2 exchange                2.09622e-13\n",
      "L-Phenylalanine exchange  29.2227\n",
      "Phosphate exchange         3.09127e-14\n",
      "D-Serine exchange         29.2996\n",
      "L-Serine exchange         29.1921\n",
      "Sulfate exchange           9.35678e-15\n",
      "L-Threonine exchange      29.2066\n",
      "L-Tyrosine exchange       29.2475\n",
      "L-Valine exchange         29.2996\n"
     ]
    }
   ],
   "source": [
    "# base optimal value:\n",
    "base_solution = model.optimize()\n",
    "\n",
    "# create table\n",
    "table = [['Metabolite Exchange', 'Removed']]\n",
    "\n",
    "for ex_id in met_ex:\n",
    "    temp_array = [model.exchanges.get_by_id(ex_id).name]\n",
    "    \n",
    "    try:\n",
    "        # export\n",
    "        model.exchanges.get_by_id(ex_id).lower_bound = 0\n",
    "        solution = model.optimize()\n",
    "        temp_array.append(solution.objective_value)\n",
    "    except:\n",
    "        # error is thrown\n",
    "        temp_array.append(0.0)\n",
    "    \n",
    "    # reset values to -1000\n",
    "    model.exchanges.get_by_id(ex_id).lower_bound = -1000\n",
    "    solution = model.optimize()\n",
    "    \n",
    "    # add tempArray to main array\n",
    "    table.append(temp_array)\n",
    "    \n",
    "\n",
    "# tabulate!\n",
    "print(\"Base Optimal Solution: \", base_solution.objective_value)\n",
    "print(tabulate(table, headers='firstrow'))"
   ]
  },
  {
   "cell_type": "code",
   "execution_count": 75,
   "id": "434b4a82-75d1-492c-acd7-7e2d4f49ff8e",
   "metadata": {},
   "outputs": [],
   "source": [
    "# reimport of each metabolite\n",
    "for ex_id in met_ex:\n",
    "    model.exchanges.get_by_id(ex_id).lower_bound = -1000\n",
    "solution = model.optimize()"
   ]
  },
  {
   "cell_type": "code",
   "execution_count": 67,
   "id": "d5bc54be-9ee6-49e4-abc1-62f93046f802",
   "metadata": {},
   "outputs": [
    {
     "data": {
      "image/png": "[encoded data removed]",
      "text/plain": [
       "<Figure size 640x480 with 1 Axes>"
      ]
     },
     "metadata": {},
     "output_type": "display_data"
    }
   ],
   "source": [
    "# x axis values\n",
    "x = np.linspace(-1000, 0, 1001)\n",
    "# corresponding y axis values\n",
    "y = []\n",
    "for xVar in x:\n",
    "    try: \n",
    "        # export\n",
    "        model.exchanges.get_by_id('EX_o2_e').lower_bound = xVar\n",
    "        solution = model.optimize()\n",
    "        y.append(solution.objective_value)\n",
    "    except:\n",
    "        # error is thrown\n",
    "        y.append(0.0)\n",
    "    # print(xVar, ': ', solution.objective_value)\n",
    "    \n",
    "# plotting\n",
    "plt.plot(x, y, color='magenta')\n",
    "\n",
    "# naming the x axis\n",
    "plt.xlabel('O2 Lower Bound')\n",
    "# naming the y axis\n",
    "plt.ylabel('Optimization Result')\n",
    "  \n",
    "# giving a title to my graph\n",
    "plt.title('Oxygen Optimization')\n",
    "  \n",
    "# function to show the plot\n",
    "plt.show()\n",
    "\n",
    "# reset oxygen\n",
    "model.exchanges.get_by_id('EX_o2_e').lower_bound = -1000"
   ]
  },
  {
   "cell_type": "code",
   "execution_count": 80,
   "id": "90677153-7448-4930-be8b-08793de393f9",
   "metadata": {},
   "outputs": [
    {
     "name": "stdout",
     "output_type": "stream",
     "text": [
      "Glutamate removed: 28.019491255572785\n",
      "Aspartate removed: 29.299628571551647\n",
      "Both removed: 26.819322006555883\n"
     ]
    }
   ],
   "source": [
    "# remove glutamate\n",
    "model.exchanges.get_by_id('EX_glu__L_e').lower_bound = 0\n",
    "solution = model.optimize()\n",
    "print('Glutamate removed:',solution.objective_value)\n",
    "model.exchanges.get_by_id('EX_glu__L_e').lower_bound = -1000\n",
    "\n",
    "# remove aspartate\n",
    "model.exchanges.get_by_id('EX_asp__L_e').lower_bound = 0\n",
    "solution = model.optimize()\n",
    "print('Aspartate removed:',solution.objective_value)\n",
    "model.exchanges.get_by_id('EX_asp__L_e').lower_bound = -1000\n",
    "\n",
    "# take out both glutamate and aspartate \n",
    "model.exchanges.get_by_id('EX_glu__L_e').lower_bound = 0\n",
    "model.exchanges.get_by_id('EX_asp__L_e').lower_bound = 0\n",
    "solution = model.optimize()\n",
    "print('Both removed:',solution.objective_value)\n",
    "\n",
    "# reset glutamate and aspartate\n",
    "model.exchanges.get_by_id('EX_glu__L_e').lower_bound = -1000\n",
    "model.exchanges.get_by_id('EX_asp__L_e').lower_bound = -1000"
   ]
  },
  {
   "cell_type": "code",
   "execution_count": 81,
   "id": "b84d6687-279f-4eb0-9215-3bc82a4b1c01",
   "metadata": {},
   "outputs": [
    {
     "name": "stdout",
     "output_type": "stream",
     "text": [
      "EX_ala_B_e Beta-Alanine exchange\n",
      "EX_ala__D_e D-Alanine exchange\n",
      "EX_ala__L_e L-Alanine exchange\n",
      "EX_asn__L_e L-Asparagine exchange\n",
      "EX_asp__L_e L-Aspartate exchange\n",
      "EX_ca2_e Calcium exchange\n",
      "EX_cl_e Chloride exchange\n",
      "EX_fe2_e Fe2+ exchange\n",
      "EX_fe3_e Fe3+ exchange\n",
      "EX_gal_e D-Galactose exchange\n",
      "EX_gln__L_e L-Glutamine exchange\n",
      "EX_glu__L_e L-Glutamate exchange\n",
      "EX_gly_e Glycine exchange\n",
      "EX_h_e H+ exchange\n",
      "EX_h2o_e H2O exchange\n",
      "EX_his__L_e L-Histidine exchange\n",
      "EX_ile__L_e L-Isoleucine exchange\n",
      "EX_k_e K+ exchange\n",
      "EX_leu__L_e L-Leucine exchange\n",
      "EX_lys__L_e L-Lysine exchange\n",
      "EX_met__L_e L-Methionine exchange\n",
      "EX_mg2_e Mg exchange\n",
      "EX_na1_e Sodium exchange\n",
      "EX_nh4_e Ammonia exchange\n",
      "EX_o2_e O2 exchange\n",
      "EX_phe__L_e L-Phenylalanine exchange\n",
      "EX_pi_e Phosphate exchange\n",
      "EX_ser__D_e D-Serine exchange\n",
      "EX_ser__L_e L-Serine exchange\n",
      "EX_so4_e Sulfate exchange\n",
      "EX_thr__L_e L-Threonine exchange\n",
      "EX_tyr__L_e L-Tyrosine exchange\n",
      "EX_val__L_e L-Valine exchange\n"
     ]
    },
    {
     "data": {
      "image/png": "[encoded data removed]",
      "text/plain": [
       "<Figure size 640x480 with 1 Axes>"
      ]
     },
     "metadata": {},
     "output_type": "display_data"
    }
   ],
   "source": [
    "# Plotting Magnesium based on H+ value\n",
    "# x axis = H+ concenration\n",
    "# y asix = optimization result\n",
    "# 3 lines, one unlimited Mg2+, one limited Mg2+, one none\n",
    "\n",
    "# resetting all values\n",
    "for ex_id in met_ex:\n",
    "    model.exchanges.get_by_id(ex_id).lower_bound = -1000\n",
    "    print(model.exchanges.get_by_id(ex_id).id, model.exchanges.get_by_id(ex_id).name)\n",
    "\n",
    "# x axis values\n",
    "x = np.linspace(-1000, 0, 1001)\n",
    "\n",
    "# corresponding y axis values\n",
    "y_unlimited_mg2 = []\n",
    "y_limited_mg2 = []\n",
    "y_no_mg2 = []\n",
    "y_unlimited_mg2_removed = []\n",
    "y_limited_mg2_removed = []\n",
    "y_no_mg2_removed = []\n",
    "\n",
    "# For comparing, for labeling point of decresing on graph\n",
    "point_not_found = True\n",
    "# Taking out glutamate and aspartate \n",
    "model.exchanges.get_by_id('EX_glu__L_e').lower_bound = 0\n",
    "model.exchanges.get_by_id('EX_asp__L_e').lower_bound = 0\n",
    "solution = model.optimize()\n",
    "base_solution_removed = solution.objective_value\n",
    "#Resetting glutamate and aspartate\n",
    "model.exchanges.get_by_id('EX_glu__L_e').lower_bound = -1000\n",
    "model.exchanges.get_by_id('EX_asp__L_e').lower_bound = -1000\n",
    "\n",
    "for xVar in x:        \n",
    "    # finds y_val from x for Unlimited Mg2+\n",
    "    model.exchanges.get_by_id('EX_mg2_e').lower_bound = -1000 # Unlimitted\n",
    "    model.exchanges.get_by_id('EX_h_e').lower_bound = xVar \n",
    "    solution = model.optimize()\n",
    "    y_unlimited_mg2.append(solution.objective_value)  \n",
    "    # Taking out glutamate and aspartate \n",
    "    model.exchanges.get_by_id('EX_glu__L_e').lower_bound = 0\n",
    "    model.exchanges.get_by_id('EX_asp__L_e').lower_bound = 0\n",
    "    model.exchanges.get_by_id('EX_h_e').lower_bound = xVar \n",
    "    solution = model.optimize()\n",
    "    y_unlimited_mg2_removed.append(solution.objective_value)\n",
    "    # labeling point in graph where decreasing begins\n",
    "    # if (solution.objective_value != base_solution_removed and point_not_found):\n",
    "    if (solution.objective_value < 26.842 and point_not_found):\n",
    "        point_not_found = False # stops this from happening every loop\n",
    "        x_removed_point = xVar\n",
    "        y_removed_point = solution.objective_value\n",
    "    #Resetting glutamate and aspartate\n",
    "    model.exchanges.get_by_id('EX_glu__L_e').lower_bound = -1000\n",
    "    model.exchanges.get_by_id('EX_asp__L_e').lower_bound = -1000\n",
    "        \n",
    "    #limits Mg2+ \n",
    "    model.exchanges.get_by_id('EX_mg2_e').lower_bound = -5 # Limited\n",
    "    model.exchanges.get_by_id('EX_h_e').lower_bound = xVar \n",
    "    solution = model.optimize()\n",
    "    y_limited_mg2.append(solution.objective_value)\n",
    "    # Taking out glutamate and aspartate \n",
    "    model.exchanges.get_by_id('EX_glu__L_e').lower_bound = 0\n",
    "    model.exchanges.get_by_id('EX_asp__L_e').lower_bound = 0\n",
    "    model.exchanges.get_by_id('EX_h_e').lower_bound = xVar \n",
    "    solution = model.optimize()\n",
    "    y_limited_mg2_removed.append(solution.objective_value) \n",
    "    #Resetting glutamate and aspartate\n",
    "    model.exchanges.get_by_id('EX_glu__L_e').lower_bound = -1000\n",
    "    model.exchanges.get_by_id('EX_asp__L_e').lower_bound = -1000\n",
    "    \n",
    "    # No Mg2+\n",
    "    model.exchanges.get_by_id('EX_mg2_e').lower_bound = 0 # Limited\n",
    "    model.exchanges.get_by_id('EX_h_e').lower_bound = xVar \n",
    "    solution = model.optimize()\n",
    "    y_no_mg2.append(solution.objective_value)\n",
    "    # Taking out glutamate and aspartate \n",
    "    model.exchanges.get_by_id('EX_glu__L_e').lower_bound = 0\n",
    "    model.exchanges.get_by_id('EX_asp__L_e').lower_bound = 0\n",
    "    model.exchanges.get_by_id('EX_h_e').lower_bound = xVar \n",
    "    solution = model.optimize()\n",
    "    y_no_mg2_removed.append(solution.objective_value) \n",
    "    #Resetting glutamate and aspartate\n",
    "    model.exchanges.get_by_id('EX_glu__L_e').lower_bound = -1000\n",
    "    model.exchanges.get_by_id('EX_asp__L_e').lower_bound = -1000\n",
    "    \n",
    "# plotting\n",
    "plt.plot(x, y_unlimited_mg2, color='red')\n",
    "plt.plot(x, y_limited_mg2, color='orange', linestyle='-')\n",
    "plt.plot(x,y_no_mg2, color='yellow', linestyle=':')\n",
    "plt.plot(x, y_unlimited_mg2_removed, color='green')\n",
    "plt.plot(x, y_limited_mg2_removed, color='blue', linestyle='-')\n",
    "plt.plot(x,y_no_mg2_removed, color='cyan', linestyle=':')\n",
    "plt.plot(x_removed_point, y_removed_point, marker='*', markersize=10, markeredgecolor=\"red\")\n",
    "point_text = '(' + str(x_removed_point) + ', ' + str(y_removed_point) + ')'\n",
    "plt.text(x_removed_point,y_removed_point, point_text) # label of point\n",
    "\n",
    "# naming the x axis\n",
    "plt.xlabel('H+ Lower Bound')\n",
    "# naming the y axis\n",
    "plt.ylabel('Optimization Result')\n",
    "# Legend\n",
    "plt.legend(['Unlimited Mg2+', 'Limited Mg2+', 'No Mg2+', 'Unlimited Mg2+ (Glutamate and Aspartate Removed)', \n",
    "            'Limited Mg2+ (Glutamate and Aspartate Removed)', 'No Mg2+ (Glutamate and Aspartate Removed)'])\n",
    "\n",
    "# giving a title to my graph\n",
    "plt.title('H+ Optimization')\n",
    "  \n",
    "# function to show the plot\n",
    "plt.show()"
   ]
  },
  {
   "cell_type": "code",
   "execution_count": 28,
   "id": "16d6aa79-eeab-4f1a-851f-204db417b322",
   "metadata": {},
   "outputs": [
    {
     "name": "stdout",
     "output_type": "stream",
     "text": [
      "2.5824861842456385e-13\n"
     ]
    }
   ],
   "source": [
    "# set oxygen exchange lower bound to 0\n",
    "model.exchanges.get_by_id('EX_o2_e').lower_bound = 0\n",
    "solution = model.optimize()\n",
    "print(solution.objective_value);"
   ]
  },
  {
   "cell_type": "code",
   "execution_count": 29,
   "id": "5208d694-fd77-43eb-8955-07aa847ab67b",
   "metadata": {},
   "outputs": [
    {
     "name": "stdout",
     "output_type": "stream",
     "text": [
      "18.74946544147408\n"
     ]
    }
   ],
   "source": [
    "# import oxygen\n",
    "model.exchanges.get_by_id('EX_o2_e').lower_bound = -10\n",
    "solution = model.optimize()\n",
    "print(solution.objective_value);"
   ]
  },
  {
   "cell_type": "code",
   "execution_count": 30,
   "id": "004995d5-2cfa-4aaa-b9a9-9da9660a8607",
   "metadata": {},
   "outputs": [],
   "source": [
    "# set oxygen exchange back\n",
    "model.exchanges.get_by_id('EX_o2_e').lower_bound = -1000\n",
    "model.exchanges.get_by_id('EX_o2_e').upper_bound = 1000"
   ]
  },
  {
   "cell_type": "code",
   "execution_count": 31,
   "id": "46eb97a9-493e-45e4-9e8f-ff1328cb22f8",
   "metadata": {},
   "outputs": [
    {
     "name": "stdout",
     "output_type": "stream",
     "text": [
      "29.526931979784003\n"
     ]
    }
   ],
   "source": [
    "# import hydrogen\n",
    "model.exchanges.get_by_id('EX_h_e').lower_bound = -10\n",
    "solution = model.optimize()\n",
    "print(solution.objective_value);"
   ]
  },
  {
   "cell_type": "code",
   "execution_count": 32,
   "id": "d1868028-e84e-4679-ac37-d4c51356c452",
   "metadata": {},
   "outputs": [
    {
     "name": "stdout",
     "output_type": "stream",
     "text": [
      "29.526931979790056\n"
     ]
    }
   ],
   "source": [
    "# remove hydrogen import\n",
    "model.exchanges.get_by_id('EX_h_e').lower_bound = 0\n",
    "solution = model.optimize()\n",
    "print(solution.objective_value);"
   ]
  },
  {
   "cell_type": "code",
   "execution_count": 33,
   "id": "232c0a47-51c1-4e5f-bca9-5869a6db396e",
   "metadata": {},
   "outputs": [],
   "source": [
    "# set hydrogen exchange back\n",
    "model.exchanges.get_by_id('EX_h_e').lower_bound = -1000\n",
    "model.exchanges.get_by_id('EX_h_e').upper_bound = 1000"
   ]
  },
  {
   "cell_type": "code",
   "execution_count": 34,
   "id": "563b818d-cf10-43a4-b036-985b70b94cc8",
   "metadata": {},
   "outputs": [
    {
     "name": "stdout",
     "output_type": "stream",
     "text": [
      "29.526931979790056\n"
     ]
    }
   ],
   "source": [
    "# import ammonia\n",
    "model.exchanges.get_by_id('EX_nh4_e').lower_bound = -10\n",
    "solution = model.optimize()\n",
    "print(solution.objective_value);"
   ]
  },
  {
   "cell_type": "code",
   "execution_count": 35,
   "id": "e09f00e2-0df7-4798-8257-f7618e67342c",
   "metadata": {},
   "outputs": [
    {
     "name": "stdout",
     "output_type": "stream",
     "text": [
      "29.526931979790056\n"
     ]
    }
   ],
   "source": [
    "# remove ammonia import\n",
    "model.exchanges.get_by_id('EX_nh4_e').lower_bound = 0\n",
    "solution = model.optimize()\n",
    "print(solution.objective_value);"
   ]
  },
  {
   "cell_type": "markdown",
   "id": "dd10259c-f801-4ee0-b427-86e80d44c9e1",
   "metadata": {},
   "source": [
    "### Gene Knockout of pcaA\n",
    "In this section, we will focus on the importance (or lack thereof) of the pcaA gene regarding *M. tuberculosis* growth."
   ]
  },
  {
   "cell_type": "code",
   "execution_count": 36,
   "id": "ea358188-32f6-4414-a44e-376a721c0c58",
   "metadata": {},
   "outputs": [],
   "source": [
    "# reset the environment\n",
    "\n",
    "# export all metabolites, import no metabolites\n",
    "for ex in model.exchanges:\n",
    "    ex.lower_bond = 0\n",
    "    ex.upper_bound = 1000\n",
    "    \n",
    "# sheep blood agar\n",
    "met_ex = ['EX_ala_B_e','EX_ala__D_e','EX_ala__L_e', 'EX_asn__L_e','EX_asp__L_e','EX_ca2_e','EX_cl_e','EX_fe2_e','EX_fe3_e',\n",
    "          'EX_gal_e','EX_gln__L_e','EX_glu__L_e','EX_gly_e','EX_h_e','EX_h2o_e','EX_his__L_e','EX_ile__L_e','EX_k_e',\n",
    "          'EX_leu__L_e','EX_lys__L_e','EX_met__L_e','EX_mg2_e','EX_na1_e','EX_nh4_e','EX_o2_e','EX_phe__L_e','EX_pi_e',\n",
    "          'EX_ser__D_e','EX_ser__L_e','EX_so4_e','EX_thr__L_e','EX_tyr__L_e','EX_val__L_e']\n",
    "for ex_id in met_ex:\n",
    "    model.exchanges.get_by_id(ex_id).lower_bound = -1000"
   ]
  },
  {
   "cell_type": "code",
   "execution_count": 37,
   "id": "aac71503-10f2-4d5d-a4b2-21aa001cca80",
   "metadata": {},
   "outputs": [
    {
     "name": "stdout",
     "output_type": "stream",
     "text": [
      "Biomass Flux with pcaA KO: -1.4148495527471449e-12\n"
     ]
    }
   ],
   "source": [
    "# remove the pcaA gene\n",
    "with model:\n",
    "    model.genes.get_by_id('Rv0470c').knock_out()\n",
    "    solution = model.optimize()\n",
    "    print('Biomass Flux with pcaA KO:', solution.objective_value)"
   ]
  },
  {
   "cell_type": "code",
   "execution_count": null,
   "id": "21dee443-358e-4a2a-b893-578841796959",
   "metadata": {},
   "outputs": [],
   "source": []
  }
 ],
 "metadata": {
  "kernelspec": {
   "display_name": "Python 3 (ipykernel)",
   "language": "python",
   "name": "python3"
  },
  "language_info": {
   "codemirror_mode": {
    "name": "ipython",
    "version": 3
   },
   "file_extension": ".py",
   "mimetype": "text/x-python",
   "name": "python",
   "nbconvert_exporter": "python",
   "pygments_lexer": "ipython3",
   "version": "3.10.9"
  }
 },
 "nbformat": 4,
 "nbformat_minor": 5
}
